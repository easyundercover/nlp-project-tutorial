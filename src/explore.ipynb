{
    "cells": [
        {
            "cell_type": "markdown",
            "metadata": {},
            "source": [
                "# NLP Project Tutorial"
            ]
        },
        {
            "cell_type": "markdown",
            "metadata": {},
            "source": [
                "**Step 1:**\n",
                "\n",
                "Load your dataset and do the necessary transformations on your target variable."
            ]
        },
        {
            "cell_type": "code",
            "execution_count": 53,
            "metadata": {},
            "outputs": [],
            "source": [
                "import pandas as pd\n",
                "import numpy as np\n",
                "import re\n",
                "from sklearn.feature_extraction.text import CountVectorizer\n",
                "from sklearn.naive_bayes import MultinomialNB\n",
                "from sklearn import model_selection, svm\n",
                "from sklearn.model_selection import train_test_split\n",
                "from sklearn.metrics import classification_report, accuracy_score"
            ]
        },
        {
            "cell_type": "code",
            "execution_count": 260,
            "metadata": {},
            "outputs": [],
            "source": [
                "url = \"https://raw.githubusercontent.com/4GeeksAcademy/NLP-project-tutorial/main/url_spam.csv\"\n",
                "df_raw = pd.read_csv(url)"
            ]
        },
        {
            "cell_type": "code",
            "execution_count": 239,
            "metadata": {},
            "outputs": [
                {
                    "name": "stdout",
                    "output_type": "stream",
                    "text": [
                        "<class 'pandas.core.frame.DataFrame'>\n",
                        "RangeIndex: 2999 entries, 0 to 2998\n",
                        "Data columns (total 2 columns):\n",
                        " #   Column   Non-Null Count  Dtype \n",
                        "---  ------   --------------  ----- \n",
                        " 0   url      2999 non-null   object\n",
                        " 1   is_spam  2999 non-null   bool  \n",
                        "dtypes: bool(1), object(1)\n",
                        "memory usage: 26.5+ KB\n"
                    ]
                }
            ],
            "source": [
                "df_raw.info()"
            ]
        },
        {
            "cell_type": "code",
            "execution_count": 240,
            "metadata": {},
            "outputs": [
                {
                    "data": {
                        "text/html": [
                            "<div>\n",
                            "<style scoped>\n",
                            "    .dataframe tbody tr th:only-of-type {\n",
                            "        vertical-align: middle;\n",
                            "    }\n",
                            "\n",
                            "    .dataframe tbody tr th {\n",
                            "        vertical-align: top;\n",
                            "    }\n",
                            "\n",
                            "    .dataframe thead th {\n",
                            "        text-align: right;\n",
                            "    }\n",
                            "</style>\n",
                            "<table border=\"1\" class=\"dataframe\">\n",
                            "  <thead>\n",
                            "    <tr style=\"text-align: right;\">\n",
                            "      <th></th>\n",
                            "      <th>url</th>\n",
                            "      <th>is_spam</th>\n",
                            "    </tr>\n",
                            "  </thead>\n",
                            "  <tbody>\n",
                            "    <tr>\n",
                            "      <th>366</th>\n",
                            "      <td>https://developer.apple.com/</td>\n",
                            "      <td>False</td>\n",
                            "    </tr>\n",
                            "    <tr>\n",
                            "      <th>249</th>\n",
                            "      <td>https://join1440.com/</td>\n",
                            "      <td>True</td>\n",
                            "    </tr>\n",
                            "    <tr>\n",
                            "      <th>917</th>\n",
                            "      <td>https://www.morningbrew.com/the-essentials/</td>\n",
                            "      <td>True</td>\n",
                            "    </tr>\n",
                            "    <tr>\n",
                            "      <th>1898</th>\n",
                            "      <td>https://www.abc.net.au/news/science/2020-06-29...</td>\n",
                            "      <td>False</td>\n",
                            "    </tr>\n",
                            "    <tr>\n",
                            "      <th>2802</th>\n",
                            "      <td>https://briefingday.com/n/20200701/m#commentform</td>\n",
                            "      <td>False</td>\n",
                            "    </tr>\n",
                            "    <tr>\n",
                            "      <th>459</th>\n",
                            "      <td>https://link.theskimm.com/manage/5uz/oc</td>\n",
                            "      <td>True</td>\n",
                            "    </tr>\n",
                            "    <tr>\n",
                            "      <th>516</th>\n",
                            "      <td>https://www.theverge.com/2020/6/22/21299032/mi...</td>\n",
                            "      <td>False</td>\n",
                            "    </tr>\n",
                            "    <tr>\n",
                            "      <th>835</th>\n",
                            "      <td>https://www.theskimm.com/daily-skimm</td>\n",
                            "      <td>True</td>\n",
                            "    </tr>\n",
                            "    <tr>\n",
                            "      <th>2418</th>\n",
                            "      <td>https://www.nytimes.com/2020/06/28/nyregion/ny...</td>\n",
                            "      <td>False</td>\n",
                            "    </tr>\n",
                            "    <tr>\n",
                            "      <th>369</th>\n",
                            "      <td>https://www.theverge.com/2020/6/18/21296180/ap...</td>\n",
                            "      <td>False</td>\n",
                            "    </tr>\n",
                            "  </tbody>\n",
                            "</table>\n",
                            "</div>"
                        ],
                        "text/plain": [
                            "                                                    url  is_spam\n",
                            "366                        https://developer.apple.com/    False\n",
                            "249                               https://join1440.com/     True\n",
                            "917         https://www.morningbrew.com/the-essentials/     True\n",
                            "1898  https://www.abc.net.au/news/science/2020-06-29...    False\n",
                            "2802   https://briefingday.com/n/20200701/m#commentform    False\n",
                            "459             https://link.theskimm.com/manage/5uz/oc     True\n",
                            "516   https://www.theverge.com/2020/6/22/21299032/mi...    False\n",
                            "835                https://www.theskimm.com/daily-skimm     True\n",
                            "2418  https://www.nytimes.com/2020/06/28/nyregion/ny...    False\n",
                            "369   https://www.theverge.com/2020/6/18/21296180/ap...    False"
                        ]
                    },
                    "execution_count": 240,
                    "metadata": {},
                    "output_type": "execute_result"
                }
            ],
            "source": [
                "df_raw.sample(10)"
            ]
        },
        {
            "cell_type": "code",
            "execution_count": 261,
            "metadata": {},
            "outputs": [
                {
                    "data": {
                        "text/plain": [
                            "630"
                        ]
                    },
                    "execution_count": 261,
                    "metadata": {},
                    "output_type": "execute_result"
                }
            ],
            "source": [
                "df_duplicates = df_raw.duplicated().sum()\n",
                "df_duplicates #Hay 630 duplicados"
            ]
        },
        {
            "cell_type": "code",
            "execution_count": 262,
            "metadata": {},
            "outputs": [],
            "source": [
                "df_int = df_raw.copy()"
            ]
        },
        {
            "cell_type": "code",
            "execution_count": 263,
            "metadata": {},
            "outputs": [],
            "source": [
                "df_int = df_int.drop_duplicates().reset_index(drop = True)\n",
                "#Dropping duplicates"
            ]
        },
        {
            "cell_type": "code",
            "execution_count": 264,
            "metadata": {},
            "outputs": [],
            "source": [
                "#Functions for url cleaning:\n",
                "\n",
                "def protocol(text):\n",
                "    return re.sub(r'(https://www|https://)', '', text)\n",
                "\n",
                "def punct(text):\n",
                "    return re.sub('[^a-zA-Z]', ' ', text)\n",
                "\n",
                "def char(text):\n",
                "    return re.sub('(\\\\d|\\\\W)+',' ', text)\n",
                "\n",
                "def dotcom(text):\n",
                "    return re.sub(r'(com|net|co|org)', '', text)\n",
                "\n",
                "def space(text):\n",
                "    return re.sub(' +', ' ', text)\n"
            ]
        },
        {
            "cell_type": "code",
            "execution_count": 265,
            "metadata": {},
            "outputs": [],
            "source": [
                "df_int['clean_url'] = df_int['url'].apply(protocol).apply(char).apply(space).apply(punct)"
            ]
        },
        {
            "cell_type": "code",
            "execution_count": 266,
            "metadata": {},
            "outputs": [
                {
                    "data": {
                        "text/html": [
                            "<div>\n",
                            "<style scoped>\n",
                            "    .dataframe tbody tr th:only-of-type {\n",
                            "        vertical-align: middle;\n",
                            "    }\n",
                            "\n",
                            "    .dataframe tbody tr th {\n",
                            "        vertical-align: top;\n",
                            "    }\n",
                            "\n",
                            "    .dataframe thead th {\n",
                            "        text-align: right;\n",
                            "    }\n",
                            "</style>\n",
                            "<table border=\"1\" class=\"dataframe\">\n",
                            "  <thead>\n",
                            "    <tr style=\"text-align: right;\">\n",
                            "      <th></th>\n",
                            "      <th>url</th>\n",
                            "      <th>is_spam</th>\n",
                            "      <th>clean_url</th>\n",
                            "    </tr>\n",
                            "  </thead>\n",
                            "  <tbody>\n",
                            "    <tr>\n",
                            "      <th>416</th>\n",
                            "      <td>https://www.theverge.com/2020/6/22/21299325/ap...</td>\n",
                            "      <td>False</td>\n",
                            "      <td>theverge com apple ios maps updates cycling d...</td>\n",
                            "    </tr>\n",
                            "    <tr>\n",
                            "      <th>1182</th>\n",
                            "      <td>https://creativemornings.com/companies/shopify</td>\n",
                            "      <td>True</td>\n",
                            "      <td>creativemornings com companies shopify</td>\n",
                            "    </tr>\n",
                            "    <tr>\n",
                            "      <th>647</th>\n",
                            "      <td>https://www.vox.com/2020/6/24/21301630/trump-r...</td>\n",
                            "      <td>False</td>\n",
                            "      <td>vox com trump reelection polling lead</td>\n",
                            "    </tr>\n",
                            "    <tr>\n",
                            "      <th>929</th>\n",
                            "      <td>https://www.cnn.com/2020/06/25/health/maskne-a...</td>\n",
                            "      <td>False</td>\n",
                            "      <td>cnn com health maskne acne covid masks wellne...</td>\n",
                            "    </tr>\n",
                            "    <tr>\n",
                            "      <th>756</th>\n",
                            "      <td>https://www.theguardian.com/us-news/2020/jun/2...</td>\n",
                            "      <td>False</td>\n",
                            "      <td>theguardian com us news jun texas coronavirus...</td>\n",
                            "    </tr>\n",
                            "    <tr>\n",
                            "      <th>1597</th>\n",
                            "      <td>https://mondaynote.com/your-next-car-will-be-e...</td>\n",
                            "      <td>False</td>\n",
                            "      <td>mondaynote com your next car will be electric ...</td>\n",
                            "    </tr>\n",
                            "    <tr>\n",
                            "      <th>825</th>\n",
                            "      <td>https://tedium.co/2020/06/23/television-test-p...</td>\n",
                            "      <td>False</td>\n",
                            "      <td>tedium co television test patterns history</td>\n",
                            "    </tr>\n",
                            "    <tr>\n",
                            "      <th>194</th>\n",
                            "      <td>https://en.wikipedia.org/wiki/Shri_Yantra</td>\n",
                            "      <td>False</td>\n",
                            "      <td>en wikipedia org wiki Shri Yantra</td>\n",
                            "    </tr>\n",
                            "    <tr>\n",
                            "      <th>1299</th>\n",
                            "      <td>https://www.fastcompany.com/90521484/how-to-de...</td>\n",
                            "      <td>False</td>\n",
                            "      <td>fastcompany com how to decontaminate an n mas...</td>\n",
                            "    </tr>\n",
                            "    <tr>\n",
                            "      <th>480</th>\n",
                            "      <td>https://www.youtube.com/watch?v=PQmDUEv939A&amp;fe...</td>\n",
                            "      <td>False</td>\n",
                            "      <td>youtube com watch v PQmDUEv A feature youtu b...</td>\n",
                            "    </tr>\n",
                            "  </tbody>\n",
                            "</table>\n",
                            "</div>"
                        ],
                        "text/plain": [
                            "                                                    url  is_spam  \\\n",
                            "416   https://www.theverge.com/2020/6/22/21299325/ap...    False   \n",
                            "1182     https://creativemornings.com/companies/shopify     True   \n",
                            "647   https://www.vox.com/2020/6/24/21301630/trump-r...    False   \n",
                            "929   https://www.cnn.com/2020/06/25/health/maskne-a...    False   \n",
                            "756   https://www.theguardian.com/us-news/2020/jun/2...    False   \n",
                            "1597  https://mondaynote.com/your-next-car-will-be-e...    False   \n",
                            "825   https://tedium.co/2020/06/23/television-test-p...    False   \n",
                            "194           https://en.wikipedia.org/wiki/Shri_Yantra    False   \n",
                            "1299  https://www.fastcompany.com/90521484/how-to-de...    False   \n",
                            "480   https://www.youtube.com/watch?v=PQmDUEv939A&fe...    False   \n",
                            "\n",
                            "                                              clean_url  \n",
                            "416    theverge com apple ios maps updates cycling d...  \n",
                            "1182             creativemornings com companies shopify  \n",
                            "647               vox com trump reelection polling lead  \n",
                            "929    cnn com health maskne acne covid masks wellne...  \n",
                            "756    theguardian com us news jun texas coronavirus...  \n",
                            "1597  mondaynote com your next car will be electric ...  \n",
                            "825         tedium co television test patterns history   \n",
                            "194                   en wikipedia org wiki Shri Yantra  \n",
                            "1299   fastcompany com how to decontaminate an n mas...  \n",
                            "480    youtube com watch v PQmDUEv A feature youtu b...  "
                        ]
                    },
                    "execution_count": 266,
                    "metadata": {},
                    "output_type": "execute_result"
                }
            ],
            "source": [
                "df_int.sample(10)"
            ]
        },
        {
            "cell_type": "code",
            "execution_count": 267,
            "metadata": {},
            "outputs": [
                {
                    "data": {
                        "text/plain": [
                            "False    2125\n",
                            "True      244\n",
                            "Name: is_spam, dtype: int64"
                        ]
                    },
                    "execution_count": 267,
                    "metadata": {},
                    "output_type": "execute_result"
                }
            ],
            "source": [
                "df_int['is_spam'].value_counts()\n",
                "#Unbalanced"
            ]
        },
        {
            "cell_type": "code",
            "execution_count": 268,
            "metadata": {},
            "outputs": [],
            "source": [
                "df_int['is_spam'] = df_int['is_spam'].apply(lambda x: 1 if x == True else 0)\n",
                "#Encoding target"
            ]
        },
        {
            "cell_type": "code",
            "execution_count": 269,
            "metadata": {},
            "outputs": [
                {
                    "data": {
                        "text/plain": [
                            "0    2125\n",
                            "1     244\n",
                            "Name: is_spam, dtype: int64"
                        ]
                    },
                    "execution_count": 269,
                    "metadata": {},
                    "output_type": "execute_result"
                }
            ],
            "source": [
                "df_int['is_spam'].value_counts()"
            ]
        },
        {
            "cell_type": "code",
            "execution_count": 270,
            "metadata": {},
            "outputs": [],
            "source": [
                "df = df_int.copy()"
            ]
        },
        {
            "cell_type": "markdown",
            "metadata": {},
            "source": [
                "**Step 3:**\n",
                "\n",
                "Use Support Vector machine to build a url spam classifier."
            ]
        },
        {
            "cell_type": "code",
            "execution_count": 271,
            "metadata": {},
            "outputs": [],
            "source": [
                "vectorizer = CountVectorizer().fit_transform(df['clean_url'])"
            ]
        },
        {
            "cell_type": "code",
            "execution_count": 275,
            "metadata": {},
            "outputs": [],
            "source": [
                "X = df['clean_url']\n",
                "y = df['is_spam']\n",
                "\n",
                "X_train, X_test, y_train, y_test = train_test_split(vectorizer, y, stratify = y, random_state = 25)"
            ]
        },
        {
            "cell_type": "code",
            "execution_count": 276,
            "metadata": {},
            "outputs": [],
            "source": [
                "classifier = svm.SVC(C=1.0, kernel='linear', degree=3, gamma='auto')"
            ]
        },
        {
            "cell_type": "code",
            "execution_count": 277,
            "metadata": {},
            "outputs": [
                {
                    "name": "stdout",
                    "output_type": "stream",
                    "text": [
                        "              precision    recall  f1-score   support\n",
                        "\n",
                        "           0       0.95      0.97      0.96       532\n",
                        "           1       0.70      0.57      0.63        61\n",
                        "\n",
                        "    accuracy                           0.93       593\n",
                        "   macro avg       0.83      0.77      0.80       593\n",
                        "weighted avg       0.93      0.93      0.93       593\n",
                        "\n"
                    ]
                }
            ],
            "source": [
                "classifier.fit(X_train, y_train)\n",
                "predictions = classifier.predict(X_test)\n",
                "print(classification_report(y_test, predictions))\n"
            ]
        },
        {
            "cell_type": "code",
            "execution_count": 279,
            "metadata": {},
            "outputs": [
                {
                    "name": "stdout",
                    "output_type": "stream",
                    "text": [
                        "SVM Accuracy Score ->  93.08600337268128\n"
                    ]
                }
            ],
            "source": [
                "print(\"SVM Accuracy Score -> \", accuracy_score(predictions, y_test)*100)\n",
                "#Our model reached 93% accuracy"
            ]
        }
    ],
    "metadata": {
        "kernelspec": {
            "display_name": "Python 3.10.5 64-bit",
            "language": "python",
            "name": "python3"
        },
        "language_info": {
            "codemirror_mode": {
                "name": "ipython",
                "version": 3
            },
            "file_extension": ".py",
            "mimetype": "text/x-python",
            "name": "python",
            "nbconvert_exporter": "python",
            "pygments_lexer": "ipython3",
            "version": "3.10.5"
        },
        "orig_nbformat": 4,
        "vscode": {
            "interpreter": {
                "hash": "be55531a80018631fb0dfb010073b3ec3c01ba5a90935dd3ed6089ae93a8f0c8"
            }
        }
    },
    "nbformat": 4,
    "nbformat_minor": 2
}
